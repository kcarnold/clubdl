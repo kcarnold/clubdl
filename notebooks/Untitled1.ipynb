{
 "cells": [
  {
   "cell_type": "code",
   "execution_count": 1,
   "metadata": {
    "collapsed": false
   },
   "outputs": [
    {
     "name": "stderr",
     "output_type": "stream",
     "text": [
      "Using TensorFlow backend.\n"
     ]
    },
    {
     "name": "stdout",
     "output_type": "stream",
     "text": [
      "Model loaded.\n"
     ]
    }
   ],
   "source": [
    "%run vgg16.py"
   ]
  },
  {
   "cell_type": "code",
   "execution_count": 2,
   "metadata": {
    "collapsed": true
   },
   "outputs": [],
   "source": [
    "val_synsets = [x.strip() for x in open('/Data/ImageNet/imagenet_2012_validation_synset_labels.txt')]"
   ]
  },
  {
   "cell_type": "code",
   "execution_count": 5,
   "metadata": {
    "collapsed": false
   },
   "outputs": [
    {
     "data": {
      "text/plain": [
       "'sweet edible dark-blue berries of either low-growing or high-growing blueberry plants'"
      ]
     },
     "execution_count": 5,
     "metadata": {},
     "output_type": "execute_result"
    }
   ],
   "source": [
    "blueberry_fruit = wordnet.synsets('blueberry', 'n')[1]\n",
    "blueberry_fruit.definition()"
   ]
  },
  {
   "cell_type": "code",
   "execution_count": 8,
   "metadata": {
    "collapsed": false
   },
   "outputs": [
    {
     "data": {
      "text/plain": [
       "'elongated crescent-shaped yellow fruit with soft sweet flesh'"
      ]
     },
     "execution_count": 8,
     "metadata": {},
     "output_type": "execute_result"
    }
   ],
   "source": [
    "banana_fruit = wordnet.synsets('banana', 'n')[1]\n",
    "banana_fruit.definition()"
   ]
  },
  {
   "cell_type": "code",
   "execution_count": 36,
   "metadata": {
    "collapsed": false
   },
   "outputs": [
    {
     "data": {
      "text/plain": [
       "'n07753592'"
      ]
     },
     "execution_count": 36,
     "metadata": {},
     "output_type": "execute_result"
    }
   ],
   "source": [
    "'n{:08}'.format(banana_fruit.offset())"
   ]
  },
  {
   "cell_type": "code",
   "execution_count": 12,
   "metadata": {
    "collapsed": true
   },
   "outputs": [],
   "source": [
    "from collections import Counter\n",
    "val_counts = Counter(val_synsets)"
   ]
  },
  {
   "cell_type": "code",
   "execution_count": 15,
   "metadata": {
    "collapsed": false
   },
   "outputs": [
    {
     "data": {
      "text/plain": [
       "[('n04141327', 50),\n",
       " ('n03000247', 50),\n",
       " ('n02110958', 50),\n",
       " ('n03095699', 50),\n",
       " ('n02110806', 50)]"
      ]
     },
     "execution_count": 15,
     "metadata": {},
     "output_type": "execute_result"
    }
   ],
   "source": [
    "val_counts.most_common(5)"
   ]
  },
  {
   "cell_type": "code",
   "execution_count": 37,
   "metadata": {
    "collapsed": false
   },
   "outputs": [
    {
     "data": {
      "text/plain": [
       "0"
      ]
     },
     "execution_count": 37,
     "metadata": {},
     "output_type": "execute_result"
    }
   ],
   "source": [
    "val_counts['n{:08}'.format(blueberry_fruit.offset())]"
   ]
  },
  {
   "cell_type": "code",
   "execution_count": 22,
   "metadata": {
    "collapsed": false
   },
   "outputs": [
    {
     "data": {
      "text/plain": [
       "'the ripened reproductive body of a seed plant'"
      ]
     },
     "execution_count": 22,
     "metadata": {},
     "output_type": "execute_result"
    }
   ],
   "source": [
    "root_fruit = wordnet.synsets('fruit', 'n')[0]\n",
    "root_fruit.definition()"
   ]
  },
  {
   "cell_type": "code",
   "execution_count": 24,
   "metadata": {
    "collapsed": false
   },
   "outputs": [],
   "source": [
    "fruits = [i for i, x in enumerate(val_synsets) if is_a(get_synset(x), root_fruit)]"
   ]
  },
  {
   "cell_type": "code",
   "execution_count": 25,
   "metadata": {
    "collapsed": true
   },
   "outputs": [],
   "source": [
    "fruit_synsets = Counter([val_synsets[i] for i in fruits])"
   ]
  },
  {
   "cell_type": "code",
   "execution_count": 29,
   "metadata": {
    "collapsed": false
   },
   "outputs": [
    {
     "data": {
      "text/plain": [
       "[Synset('buckeye.n.01'),\n",
       " Synset('jackfruit.n.02'),\n",
       " Synset('banana.n.02'),\n",
       " Synset('corn.n.02'),\n",
       " Synset('granny_smith.n.01'),\n",
       " Synset('lemon.n.01'),\n",
       " Synset('fig.n.04'),\n",
       " Synset('ear.n.05'),\n",
       " Synset('rapeseed.n.01'),\n",
       " Synset('acorn.n.01'),\n",
       " Synset('pomegranate.n.02'),\n",
       " Synset('orange.n.01'),\n",
       " Synset('strawberry.n.01'),\n",
       " Synset('custard_apple.n.02'),\n",
       " Synset('pineapple.n.02'),\n",
       " Synset('hip.n.05')]"
      ]
     },
     "execution_count": 29,
     "metadata": {},
     "output_type": "execute_result"
    }
   ],
   "source": [
    "[get_synset(s) for s, cnt in fruit_synsets.most_common(50)]"
   ]
  },
  {
   "cell_type": "code",
   "execution_count": 31,
   "metadata": {
    "collapsed": true
   },
   "outputs": [],
   "source": [
    "strawberry_synset = wordnet.synset('strawberry.n.01')\n",
    "banana_synset = wordnet.synset('banana.n.02')"
   ]
  },
  {
   "cell_type": "code",
   "execution_count": 40,
   "metadata": {
    "collapsed": false
   },
   "outputs": [
    {
     "data": {
      "text/plain": [
       "50"
      ]
     },
     "execution_count": 40,
     "metadata": {},
     "output_type": "execute_result"
    }
   ],
   "source": [
    "strawberry_id = 'n{:08}'.format(strawberry_synset.offset())\n",
    "val_counts[strawberry_id]"
   ]
  },
  {
   "cell_type": "code",
   "execution_count": 39,
   "metadata": {
    "collapsed": false
   },
   "outputs": [
    {
     "data": {
      "text/plain": [
       "50"
      ]
     },
     "execution_count": 39,
     "metadata": {},
     "output_type": "execute_result"
    }
   ],
   "source": [
    "banana_id = 'n{:08}'.format(banana_synset.offset())\n",
    "val_counts[banana_id]"
   ]
  },
  {
   "cell_type": "code",
   "execution_count": null,
   "metadata": {
    "collapsed": true
   },
   "outputs": [],
   "source": []
  },
  {
   "cell_type": "code",
   "execution_count": 41,
   "metadata": {
    "collapsed": false
   },
   "outputs": [
    {
     "data": {
      "text/plain": [
       "[98,\n",
       " 319,\n",
       " 1193,\n",
       " 1734,\n",
       " 1935,\n",
       " 2411,\n",
       " 4427,\n",
       " 4831,\n",
       " 5065,\n",
       " 5756,\n",
       " 7897,\n",
       " 8737,\n",
       " 10615,\n",
       " 10941,\n",
       " 11347,\n",
       " 12215,\n",
       " 12370,\n",
       " 12496,\n",
       " 12644,\n",
       " 12651,\n",
       " 12727,\n",
       " 13498,\n",
       " 14738,\n",
       " 16158,\n",
       " 17533,\n",
       " 19252,\n",
       " 19753,\n",
       " 21853,\n",
       " 22483,\n",
       " 23511,\n",
       " 23738,\n",
       " 24154,\n",
       " 25149,\n",
       " 31439,\n",
       " 31508,\n",
       " 31852,\n",
       " 32275,\n",
       " 32410,\n",
       " 33918,\n",
       " 35169,\n",
       " 35444,\n",
       " 37095,\n",
       " 37521,\n",
       " 40988,\n",
       " 41408,\n",
       " 42196,\n",
       " 43919,\n",
       " 46202,\n",
       " 46436,\n",
       " 48022]"
      ]
     },
     "execution_count": 41,
     "metadata": {},
     "output_type": "execute_result"
    }
   ],
   "source": [
    "[i for i, x in enumerate(val_synsets) if x == strawberry_id]"
   ]
  },
  {
   "cell_type": "code",
   "execution_count": 43,
   "metadata": {
    "collapsed": true
   },
   "outputs": [],
   "source": [
    "import os"
   ]
  },
  {
   "cell_type": "code",
   "execution_count": 47,
   "metadata": {
    "collapsed": false
   },
   "outputs": [
    {
     "data": {
      "text/plain": [
       "0"
      ]
     },
     "execution_count": 47,
     "metadata": {},
     "output_type": "execute_result"
    }
   ],
   "source": [
    "os.system('open /Data/ImageNet/validation/ILSVRC2012_val_{:08}.JPEG'.format(12651+1))"
   ]
  },
  {
   "cell_type": "code",
   "execution_count": 19,
   "metadata": {
    "collapsed": false
   },
   "outputs": [
    {
     "data": {
      "text/plain": [
       "['the ripened reproductive body of a seed plant',\n",
       " 'an amount of a product',\n",
       " 'the consequence of some effort or action']"
      ]
     },
     "execution_count": 19,
     "metadata": {},
     "output_type": "execute_result"
    }
   ],
   "source": [
    "[s.definition() for s in wordnet.synsets('fruit', 'n')]"
   ]
  },
  {
   "cell_type": "code",
   "execution_count": null,
   "metadata": {
    "collapsed": true
   },
   "outputs": [],
   "source": []
  }
 ],
 "metadata": {
  "anaconda-cloud": {},
  "kernelspec": {
   "display_name": "Python 3",
   "language": "python",
   "name": "python3"
  },
  "language_info": {
   "codemirror_mode": {
    "name": "ipython",
    "version": 3
   },
   "file_extension": ".py",
   "mimetype": "text/x-python",
   "name": "python",
   "nbconvert_exporter": "python",
   "pygments_lexer": "ipython3",
   "version": "3.5.1"
  }
 },
 "nbformat": 4,
 "nbformat_minor": 0
}
