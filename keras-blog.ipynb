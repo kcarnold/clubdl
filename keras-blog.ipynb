{
 "cells": [
  {
   "cell_type": "markdown",
   "metadata": {},
   "source": [
    "Based on http://blog.keras.io/building-powerful-image-classification-models-using-very-little-data.html"
   ]
  },
  {
   "cell_type": "code",
   "execution_count": 1,
   "metadata": {
    "collapsed": false
   },
   "outputs": [
    {
     "name": "stderr",
     "output_type": "stream",
     "text": [
      "Using Theano backend.\n"
     ]
    }
   ],
   "source": [
    "import keras"
   ]
  },
  {
   "cell_type": "code",
   "execution_count": 53,
   "metadata": {
    "collapsed": true
   },
   "outputs": [],
   "source": [
    "from keras.preprocessing.image import ImageDataGenerator, array_to_img, img_to_array, load_img"
   ]
  },
  {
   "cell_type": "code",
   "execution_count": 54,
   "metadata": {
    "collapsed": true
   },
   "outputs": [],
   "source": [
    "import glob\n",
    "dog_filenames = glob.glob('DogsVsCats-kaggle/train/dogs/*.jpg')\n",
    "cat_filenames = glob.glob('DogsVsCats-kaggle/train/cats/*.jpg')"
   ]
  },
  {
   "cell_type": "code",
   "execution_count": 72,
   "metadata": {
    "collapsed": false
   },
   "outputs": [],
   "source": [
    "# dimensions of our images.\n",
    "img_width, img_height = 150, 150\n",
    "def load_images(filenames, target_size):\n",
    "    w, h = target_size\n",
    "    imgs = np.empty((len(filenames), 3, w, h))\n",
    "    for i in range(len(dog_filenames)):\n",
    "        imgs[i] = img_to_array(load_img(filenames[i], target_size=target_size))\n",
    "    return imgs"
   ]
  },
  {
   "cell_type": "code",
   "execution_count": 74,
   "metadata": {
    "collapsed": false
   },
   "outputs": [],
   "source": [
    "np.save('dogs.npy', load_images(dog_filenames, (img_width, img_height)))"
   ]
  },
  {
   "cell_type": "code",
   "execution_count": 75,
   "metadata": {
    "collapsed": true
   },
   "outputs": [],
   "source": [
    "np.save('cats.npy', load_images(cat_filenames, (img_width, img_height)))"
   ]
  },
  {
   "cell_type": "code",
   "execution_count": 76,
   "metadata": {
    "collapsed": true
   },
   "outputs": [],
   "source": [
    "dogs = np.load('dogs.npy', mmap_mode='r')\n",
    "cats = np.load('cats.npy', mmap_mode='r')"
   ]
  },
  {
   "cell_type": "code",
   "execution_count": 89,
   "metadata": {
    "collapsed": false
   },
   "outputs": [],
   "source": [
    "dog_feats = model.predict(dogs[:10])"
   ]
  },
  {
   "cell_type": "code",
   "execution_count": 92,
   "metadata": {
    "collapsed": false
   },
   "outputs": [],
   "source": [
    "dog_feats = dog_feats.reshape((len(dog_feats), -1))"
   ]
  },
  {
   "cell_type": "code",
   "execution_count": 93,
   "metadata": {
    "collapsed": true
   },
   "outputs": [],
   "source": [
    "cat_feats = model.predict(cats[:10]).reshape((10, -1))"
   ]
  },
  {
   "cell_type": "code",
   "execution_count": 94,
   "metadata": {
    "collapsed": false
   },
   "outputs": [
    {
     "data": {
      "text/plain": [
       "<matplotlib.image.AxesImage at 0x7ff9aa50cc50>"
      ]
     },
     "execution_count": 94,
     "metadata": {},
     "output_type": "execute_result"
    },
    {
     "data": {
      "image/png": "[encoded data removed]",
      "text/plain": [
       "<matplotlib.figure.Figure at 0x7ff98bcf0470>"
      ]
     },
     "metadata": {},
     "output_type": "display_data"
    }
   ],
   "source": [
    "%matplotlib inline\n",
    "import matplotlib.pyplot as plt\n",
    "plt.matshow(dog_feats)"
   ]
  },
  {
   "cell_type": "code",
   "execution_count": 6,
   "metadata": {
    "collapsed": false
   },
   "outputs": [],
   "source": [
    "datagen = ImageDataGenerator(\n",
    "        rotation_range=40,\n",
    "        width_shift_range=0.2,\n",
    "        height_shift_range=0.2,\n",
    "        shear_range=0.2,\n",
    "        zoom_range=0.2,\n",
    "        horizontal_flip=True,\n",
    "        fill_mode='nearest')\n",
    "\n",
    "img = load_img('DogsVsCats-kaggle/train/cats/cat.0.jpg')  # this is a PIL image\n",
    "x = img_to_array(img)  # this is a Numpy array with shape (3, 150, 150)\n",
    "x = x.reshape((1,) + x.shape)  # this is a Numpy array with shape (1, 3, 150, 150)\n",
    "\n",
    "# the .flow() command below generates batches of randomly transformed images\n",
    "# and saves the results to the `preview/` directory\n",
    "i = 0\n",
    "for batch in datagen.flow(x, batch_size=1,\n",
    "                          save_to_dir='preview', save_prefix='cat', save_format='jpeg'):\n",
    "    i += 1\n",
    "    if i > 20:\n",
    "        break  # otherwise the generator would loop indefinitely"
   ]
  },
  {
   "cell_type": "code",
   "execution_count": 7,
   "metadata": {
    "collapsed": true
   },
   "outputs": [],
   "source": [
    "from keras.models import Sequential\n",
    "from keras.layers import Convolution2D, MaxPooling2D\n",
    "from keras.layers import Activation, Dropout, Flatten, Dense\n",
    "\n",
    "model = Sequential()\n",
    "model.add(Convolution2D(32, 3, 3, input_shape=(3, 150, 150)))\n",
    "model.add(Activation('relu'))\n",
    "model.add(MaxPooling2D(pool_size=(2, 2)))\n",
    "\n",
    "model.add(Convolution2D(32, 3, 3))\n",
    "model.add(Activation('relu'))\n",
    "model.add(MaxPooling2D(pool_size=(2, 2)))\n",
    "\n",
    "model.add(Convolution2D(64, 3, 3))\n",
    "model.add(Activation('relu'))\n",
    "model.add(MaxPooling2D(pool_size=(2, 2)))\n",
    "\n",
    "# the model so far outputs 3D feature maps (height, width, features)\n",
    "\n",
    "model.add(Flatten())  # this converts our 3D feature maps to 1D feature vectors\n",
    "model.add(Dense(64))\n",
    "model.add(Activation('relu'))\n",
    "model.add(Dropout(0.5))\n",
    "model.add(Dense(1))\n",
    "model.add(Activation('sigmoid'))\n",
    "\n",
    "model.compile(loss='binary_crossentropy',\n",
    "              optimizer='rmsprop',\n",
    "              metrics=['accuracy'])\n"
   ]
  },
  {
   "cell_type": "code",
   "execution_count": 8,
   "metadata": {
    "collapsed": false
   },
   "outputs": [
    {
     "name": "stdout",
     "output_type": "stream",
     "text": [
      "Found 22778 images belonging to 2 classes.\n",
      "Found 2222 images belonging to 2 classes.\n"
     ]
    }
   ],
   "source": [
    "# this is the augmentation configuration we will use for training\n",
    "train_datagen = ImageDataGenerator(\n",
    "        rescale=1./255,\n",
    "        shear_range=0.2,\n",
    "        zoom_range=0.2,\n",
    "        horizontal_flip=True)\n",
    "\n",
    "# this is the augmentation configuration we will use for testing:\n",
    "# only rescaling\n",
    "test_datagen = ImageDataGenerator(rescale=1./255)\n",
    "\n",
    "# this is a generator that will read pictures found in\n",
    "# subfolers of 'data/train', and indefinitely generate\n",
    "# batches of augmented image data\n",
    "train_generator = train_datagen.flow_from_directory(\n",
    "        'DogsVsCats-kaggle/train',  # this is the target directory\n",
    "        target_size=(150, 150),  # all images will be resized to 150x150\n",
    "        batch_size=32,\n",
    "        class_mode='binary')  # since we use binary_crossentropy loss, we need binary labels\n",
    "\n",
    "# this is a similar generator, for validation data\n",
    "validation_generator = test_datagen.flow_from_directory(\n",
    "        'DogsVsCats-kaggle/validation',\n",
    "        target_size=(150, 150),\n",
    "        batch_size=32,\n",
    "        class_mode='binary')"
   ]
  },
  {
   "cell_type": "code",
   "execution_count": 9,
   "metadata": {
    "collapsed": false
   },
   "outputs": [
    {
     "name": "stdout",
     "output_type": "stream",
     "text": [
      "Epoch 1/50\n",
      "1984/2000 [============================>.] - ETA: 0s - loss: 0.7358 - acc: 0.5267"
     ]
    },
    {
     "name": "stderr",
     "output_type": "stream",
     "text": [
      "/opt/conda/lib/python3.5/site-packages/keras/engine/training.py:1432: UserWarning: Epoch comprised more than `samples_per_epoch` samples, which might affect learning results. Set `samples_per_epoch` correctly to avoid this warning.\n",
      "  warnings.warn('Epoch comprised more than '\n"
     ]
    },
    {
     "name": "stdout",
     "output_type": "stream",
     "text": [
      "2016/2000 [==============================] - 113s - loss: 0.7349 - acc: 0.5258 - val_loss: 0.6849 - val_acc: 0.5162\n",
      "Epoch 2/50\n",
      "2016/2000 [==============================] - 106s - loss: 0.6937 - acc: 0.5704 - val_loss: 0.6500 - val_acc: 0.6375\n",
      "Epoch 3/50\n",
      "2016/2000 [==============================] - 108s - loss: 0.6812 - acc: 0.6012 - val_loss: 0.6186 - val_acc: 0.6622\n",
      "Epoch 4/50\n",
      "2016/2000 [==============================] - 111s - loss: 0.6524 - acc: 0.6349 - val_loss: 0.6693 - val_acc: 0.6038\n",
      "Epoch 5/50\n",
      "2016/2000 [==============================] - 102s - loss: 0.6258 - acc: 0.6513 - val_loss: 0.6119 - val_acc: 0.6763\n",
      "Epoch 6/50\n",
      "2016/2000 [==============================] - 103s - loss: 0.6282 - acc: 0.6791 - val_loss: 0.5768 - val_acc: 0.6892\n",
      "Epoch 7/50\n",
      "2016/2000 [==============================] - 103s - loss: 0.6074 - acc: 0.6726 - val_loss: 0.5594 - val_acc: 0.7137\n",
      "Epoch 8/50\n",
      "2016/2000 [==============================] - 102s - loss: 0.5879 - acc: 0.6885 - val_loss: 0.5426 - val_acc: 0.7275\n",
      "Epoch 9/50\n",
      "2016/2000 [==============================] - 96s - loss: 0.5618 - acc: 0.7143 - val_loss: 0.5885 - val_acc: 0.6813\n",
      "Epoch 10/50\n",
      "2016/2000 [==============================] - 93s - loss: 0.5825 - acc: 0.6855 - val_loss: 0.5209 - val_acc: 0.7475\n",
      "Epoch 11/50\n",
      "2016/2000 [==============================] - 83s - loss: 0.5912 - acc: 0.6875 - val_loss: 0.6214 - val_acc: 0.6843\n",
      "Epoch 12/50\n",
      "2010/2000 [==============================] - 85s - loss: 0.5586 - acc: 0.7184 - val_loss: 0.5116 - val_acc: 0.7400\n",
      "Epoch 13/50\n",
      "2016/2000 [==============================] - 84s - loss: 0.5722 - acc: 0.7019 - val_loss: 0.5627 - val_acc: 0.6887\n",
      "Epoch 14/50\n",
      "2016/2000 [==============================] - 86s - loss: 0.5667 - acc: 0.7188 - val_loss: 0.6575 - val_acc: 0.6400\n",
      "Epoch 15/50\n",
      "2016/2000 [==============================] - 88s - loss: 0.5324 - acc: 0.7302 - val_loss: 0.5510 - val_acc: 0.7100\n",
      "Epoch 16/50\n",
      "2016/2000 [==============================] - 87s - loss: 0.5482 - acc: 0.7212 - val_loss: 0.5720 - val_acc: 0.7050\n",
      "Epoch 17/50\n",
      "2016/2000 [==============================] - 87s - loss: 0.5310 - acc: 0.7351 - val_loss: 0.5089 - val_acc: 0.7550\n",
      "Epoch 18/50\n",
      "2016/2000 [==============================] - 87s - loss: 0.5441 - acc: 0.7297 - val_loss: 0.4916 - val_acc: 0.7625\n",
      "Epoch 19/50\n",
      "2016/2000 [==============================] - 87s - loss: 0.5162 - acc: 0.7515 - val_loss: 0.4966 - val_acc: 0.7666\n",
      "Epoch 20/50\n",
      "2016/2000 [==============================] - 88s - loss: 0.5334 - acc: 0.7326 - val_loss: 0.5089 - val_acc: 0.7562\n",
      "Epoch 21/50\n",
      "2016/2000 [==============================] - 89s - loss: 0.5381 - acc: 0.7282 - val_loss: 0.4674 - val_acc: 0.7750\n",
      "Epoch 22/50\n",
      "2016/2000 [==============================] - 92s - loss: 0.5055 - acc: 0.7550 - val_loss: 0.5041 - val_acc: 0.7518\n",
      "Epoch 23/50\n",
      "2010/2000 [==============================] - 85s - loss: 0.5528 - acc: 0.7209 - val_loss: 0.5051 - val_acc: 0.7438\n",
      "Epoch 24/50\n",
      "2016/2000 [==============================] - 85s - loss: 0.4927 - acc: 0.7669 - val_loss: 0.4768 - val_acc: 0.7762\n",
      "Epoch 25/50\n",
      "2016/2000 [==============================] - 85s - loss: 0.5894 - acc: 0.6939 - val_loss: 0.5025 - val_acc: 0.7662\n",
      "Epoch 26/50\n",
      "2016/2000 [==============================] - 86s - loss: 0.5311 - acc: 0.7450 - val_loss: 0.4606 - val_acc: 0.7762\n",
      "Epoch 27/50\n",
      "2016/2000 [==============================] - 85s - loss: 0.5150 - acc: 0.7450 - val_loss: 0.5108 - val_acc: 0.7531\n",
      "Epoch 28/50\n",
      "2016/2000 [==============================] - 84s - loss: 0.5155 - acc: 0.7421 - val_loss: 0.4965 - val_acc: 0.7638\n",
      "Epoch 29/50\n",
      "2016/2000 [==============================] - 85s - loss: 0.5249 - acc: 0.7361 - val_loss: 0.5189 - val_acc: 0.7188\n",
      "Epoch 30/50\n",
      "2016/2000 [==============================] - 85s - loss: 0.5153 - acc: 0.7436 - val_loss: 0.5220 - val_acc: 0.7445\n",
      "Epoch 31/50\n",
      "2016/2000 [==============================] - 84s - loss: 0.5042 - acc: 0.7674 - val_loss: 0.4487 - val_acc: 0.8100\n",
      "Epoch 32/50\n",
      "2016/2000 [==============================] - 85s - loss: 0.5147 - acc: 0.7545 - val_loss: 0.5477 - val_acc: 0.7212\n",
      "Epoch 33/50\n",
      "2016/2000 [==============================] - 87s - loss: 0.4790 - acc: 0.7783 - val_loss: 0.4539 - val_acc: 0.7875\n",
      "Epoch 34/50\n",
      "2010/2000 [==============================] - 87s - loss: 0.4879 - acc: 0.7831 - val_loss: 0.4612 - val_acc: 0.7863\n",
      "Epoch 35/50\n",
      "2016/2000 [==============================] - 87s - loss: 0.4470 - acc: 0.7996 - val_loss: 0.4466 - val_acc: 0.8096\n",
      "Epoch 36/50\n",
      "2016/2000 [==============================] - 89s - loss: 0.4702 - acc: 0.7798 - val_loss: 0.4939 - val_acc: 0.7800\n",
      "Epoch 37/50\n",
      "2016/2000 [==============================] - 88s - loss: 0.4906 - acc: 0.7614 - val_loss: 0.4543 - val_acc: 0.7925\n",
      "Epoch 38/50\n",
      "2016/2000 [==============================] - 88s - loss: 0.5264 - acc: 0.7515 - val_loss: 0.4664 - val_acc: 0.7752\n",
      "Epoch 39/50\n",
      "2016/2000 [==============================] - 87s - loss: 0.5009 - acc: 0.7713 - val_loss: 0.4633 - val_acc: 0.7712\n",
      "Epoch 40/50\n",
      "2016/2000 [==============================] - 101s - loss: 0.5009 - acc: 0.7758 - val_loss: 0.4298 - val_acc: 0.8275\n",
      "Epoch 41/50\n",
      "2016/2000 [==============================] - 106s - loss: 0.4865 - acc: 0.7639 - val_loss: 0.4208 - val_acc: 0.8163\n",
      "Epoch 42/50\n",
      "2016/2000 [==============================] - 107s - loss: 0.4778 - acc: 0.7827 - val_loss: 0.3916 - val_acc: 0.8075\n",
      "Epoch 43/50\n",
      "2016/2000 [==============================] - 97s - loss: 0.4985 - acc: 0.7693 - val_loss: 0.4490 - val_acc: 0.7887\n",
      "Epoch 44/50\n",
      "2016/2000 [==============================] - 88s - loss: 0.4761 - acc: 0.7822 - val_loss: 0.4254 - val_acc: 0.8150\n",
      "Epoch 45/50\n",
      "2016/2000 [==============================] - 89s - loss: 0.4648 - acc: 0.7852 - val_loss: 0.4195 - val_acc: 0.8013\n",
      "Epoch 46/50\n",
      "2010/2000 [==============================] - 90s - loss: 0.4816 - acc: 0.7806 - val_loss: 0.4364 - val_acc: 0.8010\n",
      "Epoch 47/50\n",
      "2016/2000 [==============================] - 90s - loss: 0.4814 - acc: 0.7812 - val_loss: 0.4222 - val_acc: 0.8175\n",
      "Epoch 48/50\n",
      "2016/2000 [==============================] - 89s - loss: 0.4653 - acc: 0.7887 - val_loss: 0.4171 - val_acc: 0.8050\n",
      "Epoch 49/50\n",
      "2016/2000 [==============================] - 88s - loss: 0.4406 - acc: 0.8125 - val_loss: 0.4157 - val_acc: 0.8200\n",
      "Epoch 50/50\n",
      "2016/2000 [==============================] - 94s - loss: 0.4441 - acc: 0.8080 - val_loss: 0.4136 - val_acc: 0.8050\n"
     ]
    }
   ],
   "source": [
    "model.fit_generator(\n",
    "        train_generator,\n",
    "        samples_per_epoch=2000,\n",
    "        nb_epoch=50,\n",
    "        validation_data=validation_generator,\n",
    "        nb_val_samples=800)\n",
    "model.save_weights('first_try.h5')  # always save your weights after training or during training"
   ]
  },
  {
   "cell_type": "markdown",
   "metadata": {},
   "source": [
    "# Bottleneck features"
   ]
  },
  {
   "cell_type": "code",
   "execution_count": 39,
   "metadata": {
    "collapsed": true
   },
   "outputs": [],
   "source": [
    "import os\n",
    "import h5py\n",
    "import numpy as np\n",
    "from keras.preprocessing.image import ImageDataGenerator\n",
    "from keras.models import Sequential\n",
    "from keras.layers import Convolution2D, MaxPooling2D, ZeroPadding2D\n",
    "from keras.layers import Activation, Dropout, Flatten, Dense\n",
    "\n",
    "# path to the model weights file.\n",
    "weights_path = 'vgg16_weights.h5'\n",
    "top_model_weights_path = 'bottleneck_fc_model.h5'\n",
    "\n",
    "train_data_dir = 'DogsVsCats-kaggle/train'\n",
    "validation_data_dir = 'DogsVsCats-kaggle/validation'\n",
    "nb_train_samples = 2000\n",
    "nb_validation_samples = 2000\n",
    "\n",
    "\n",
    "def vgg16_model():\n",
    "    # build the VGG16 network\n",
    "    model = Sequential()\n",
    "    model.add(ZeroPadding2D((1, 1), input_shape=(3, img_width, img_height)))\n",
    "\n",
    "    model.add(Convolution2D(64, 3, 3, activation='relu', name='conv1_1'))\n",
    "    model.add(ZeroPadding2D((1, 1)))\n",
    "    model.add(Convolution2D(64, 3, 3, activation='relu', name='conv1_2'))\n",
    "    model.add(MaxPooling2D((2, 2), strides=(2, 2)))\n",
    "\n",
    "    model.add(ZeroPadding2D((1, 1)))\n",
    "    model.add(Convolution2D(128, 3, 3, activation='relu', name='conv2_1'))\n",
    "    model.add(ZeroPadding2D((1, 1)))\n",
    "    model.add(Convolution2D(128, 3, 3, activation='relu', name='conv2_2'))\n",
    "    model.add(MaxPooling2D((2, 2), strides=(2, 2)))\n",
    "\n",
    "    model.add(ZeroPadding2D((1, 1)))\n",
    "    model.add(Convolution2D(256, 3, 3, activation='relu', name='conv3_1'))\n",
    "    model.add(ZeroPadding2D((1, 1)))\n",
    "    model.add(Convolution2D(256, 3, 3, activation='relu', name='conv3_2'))\n",
    "    model.add(ZeroPadding2D((1, 1)))\n",
    "    model.add(Convolution2D(256, 3, 3, activation='relu', name='conv3_3'))\n",
    "    model.add(MaxPooling2D((2, 2), strides=(2, 2)))\n",
    "\n",
    "    model.add(ZeroPadding2D((1, 1)))\n",
    "    model.add(Convolution2D(512, 3, 3, activation='relu', name='conv4_1'))\n",
    "    model.add(ZeroPadding2D((1, 1)))\n",
    "    model.add(Convolution2D(512, 3, 3, activation='relu', name='conv4_2'))\n",
    "    model.add(ZeroPadding2D((1, 1)))\n",
    "    model.add(Convolution2D(512, 3, 3, activation='relu', name='conv4_3'))\n",
    "    model.add(MaxPooling2D((2, 2), strides=(2, 2)))\n",
    "\n",
    "    model.add(ZeroPadding2D((1, 1)))\n",
    "    model.add(Convolution2D(512, 3, 3, activation='relu', name='conv5_1'))\n",
    "    model.add(ZeroPadding2D((1, 1)))\n",
    "    model.add(Convolution2D(512, 3, 3, activation='relu', name='conv5_2'))\n",
    "    model.add(ZeroPadding2D((1, 1)))\n",
    "    model.add(Convolution2D(512, 3, 3, activation='relu', name='conv5_3'))\n",
    "    model.add(MaxPooling2D((2, 2), strides=(2, 2)))\n",
    "\n",
    "    # load the weights of the VGG16 networks\n",
    "    # (trained on ImageNet, won the ILSVRC competition in 2014)\n",
    "    # note: when there is a complete match between your model definition\n",
    "    # and your weight savefile, you can simply call model.load_weights(filename)\n",
    "    assert os.path.exists(weights_path), 'Model weights not found (see \"weights_path\" variable in script).'\n",
    "    f = h5py.File(weights_path)\n",
    "    for k in range(f.attrs['nb_layers']):\n",
    "        if k >= len(model.layers):\n",
    "            # we don't look at the last (fully-connected) layers in the savefile\n",
    "            break\n",
    "        g = f['layer_{}'.format(k)]\n",
    "        weights = [g['param_{}'.format(p)] for p in range(g.attrs['nb_params'])]\n",
    "        model.layers[k].set_weights(weights)\n",
    "    f.close()\n",
    "    return model"
   ]
  },
  {
   "cell_type": "code",
   "execution_count": 45,
   "metadata": {
    "collapsed": true
   },
   "outputs": [],
   "source": [
    "model = vgg16_model()\n",
    "model.build()"
   ]
  },
  {
   "cell_type": "code",
   "execution_count": 95,
   "metadata": {
    "collapsed": true
   },
   "outputs": [],
   "source": [
    "f = h5py.File(weights_path)"
   ]
  },
  {
   "cell_type": "code",
   "execution_count": 99,
   "metadata": {
    "collapsed": false
   },
   "outputs": [
    {
     "data": {
      "text/plain": [
       "[]"
      ]
     },
     "execution_count": 99,
     "metadata": {},
     "output_type": "execute_result"
    }
   ],
   "source": [
    "list(f['layer_0'])"
   ]
  },
  {
   "cell_type": "code",
   "execution_count": null,
   "metadata": {
    "collapsed": true
   },
   "outputs": [],
   "source": [
    "model"
   ]
  },
  {
   "cell_type": "code",
   "execution_count": null,
   "metadata": {
    "collapsed": true
   },
   "outputs": [],
   "source": [
    "model.predict()"
   ]
  },
  {
   "cell_type": "code",
   "execution_count": 52,
   "metadata": {
    "collapsed": false
   },
   "outputs": [
    {
     "data": {
      "text/plain": [
       "Pool{ds=(2, 2), ignore_border=True, st=(2, 2), padding=(0, 0), mode='max'}.0"
      ]
     },
     "execution_count": 52,
     "metadata": {},
     "output_type": "execute_result"
    }
   ],
   "source": [
    "model.model.layers[-1].output"
   ]
  },
  {
   "cell_type": "code",
   "execution_count": 10,
   "metadata": {
    "collapsed": false
   },
   "outputs": [
    {
     "name": "stdout",
     "output_type": "stream",
     "text": [
      "Model loaded.\n",
      "Found 2000 images belonging to 2 classes.\n",
      "Found 2000 images belonging to 2 classes.\n"
     ]
    }
   ],
   "source": [
    "def save_bottlebeck_features():\n",
    "    datagen = ImageDataGenerator(rescale=1./255)\n",
    "\n",
    "    model = vgg16_model()\n",
    "    print('Model loaded.')\n",
    "\n",
    "    generator = datagen.flow_from_directory(\n",
    "            train_data_dir,\n",
    "            target_size=(img_width, img_height),\n",
    "            batch_size=32,\n",
    "            class_mode=None,\n",
    "            shuffle=False)\n",
    "    bottleneck_features_train = model.predict_generator(generator, nb_train_samples)\n",
    "    np.save('bottleneck_features_train.npy', bottleneck_features_train)\n",
    "\n",
    "    generator = datagen.flow_from_directory(\n",
    "            validation_data_dir,\n",
    "            target_size=(img_width, img_height),\n",
    "            batch_size=32,\n",
    "            class_mode=None,\n",
    "            shuffle=False)\n",
    "    bottleneck_features_validation = model.predict_generator(generator, nb_validation_samples)\n",
    "    np.save('bottleneck_features_validation.npy', bottleneck_features_validation)\n",
    "save_bottlebeck_features()"
   ]
  },
  {
   "cell_type": "code",
   "execution_count": 85,
   "metadata": {
    "collapsed": false
   },
   "outputs": [
    {
     "data": {
      "text/plain": [
       "(2000, 512, 4, 4)"
      ]
     },
     "execution_count": 85,
     "metadata": {},
     "output_type": "execute_result"
    }
   ],
   "source": [
    "np.load('bottleneck_features_train.npy', mmap_mode='r').shape"
   ]
  },
  {
   "cell_type": "code",
   "execution_count": 13,
   "metadata": {
    "collapsed": true
   },
   "outputs": [],
   "source": [
    "from IPython.display import Image"
   ]
  },
  {
   "cell_type": "code",
   "execution_count": 29,
   "metadata": {
    "collapsed": false
   },
   "outputs": [
    {
     "name": "stdout",
     "output_type": "stream",
     "text": [
      "Found 2000 images belonging to 2 classes.\n"
     ]
    }
   ],
   "source": [
    "import itertools\n",
    "gen = ImageDataGenerator(rescale=1/255).flow_from_directory(train_data_dir, target_size=(img_width, img_height), batch_size=10, class_mode=None, shuffle=False)\n",
    "imgs = next(gen)"
   ]
  },
  {
   "cell_type": "code",
   "execution_count": 38,
   "metadata": {
    "collapsed": false
   },
   "outputs": [
    {
     "data": {
      "image/png": "[encoded data removed]",
      "text/plain": [
       "<PIL.Image.Image image mode=RGB size=150x150 at 0x7FF988B5C630>"
      ]
     },
     "execution_count": 38,
     "metadata": {},
     "output_type": "execute_result"
    }
   ],
   "source": [
    "array_to_img(imgs[8])"
   ]
  },
  {
   "cell_type": "code",
   "execution_count": null,
   "metadata": {
    "collapsed": true
   },
   "outputs": [],
   "source": []
  }
 ],
 "metadata": {
  "anaconda-cloud": {},
  "kernelspec": {
   "display_name": "Python [Root]",
   "language": "python",
   "name": "Python [Root]"
  },
  "language_info": {
   "codemirror_mode": {
    "name": "ipython",
    "version": 3
   },
   "file_extension": ".py",
   "mimetype": "text/x-python",
   "name": "python",
   "nbconvert_exporter": "python",
   "pygments_lexer": "ipython3",
   "version": "3.5.2"
  }
 },
 "nbformat": 4,
 "nbformat_minor": 0
}
